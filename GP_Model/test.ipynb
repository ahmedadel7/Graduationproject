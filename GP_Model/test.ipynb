{
 "cells": [
  {
   "cell_type": "code",
   "execution_count": 1,
   "metadata": {},
   "outputs": [
    {
     "ename": "ModuleNotFoundError",
     "evalue": "No module named 'sklearn'",
     "output_type": "error",
     "traceback": [
      "\u001b[1;31m---------------------------------------------------------------------------\u001b[0m",
      "\u001b[1;31mModuleNotFoundError\u001b[0m                       Traceback (most recent call last)",
      "Cell \u001b[1;32mIn[1], line 2\u001b[0m\n\u001b[0;32m      1\u001b[0m \u001b[39mimport\u001b[39;00m \u001b[39mre\u001b[39;00m\n\u001b[1;32m----> 2\u001b[0m \u001b[39mfrom\u001b[39;00m \u001b[39msklearn\u001b[39;00m\u001b[39m.\u001b[39;00m\u001b[39mfeature_extraction\u001b[39;00m\u001b[39m.\u001b[39;00m\u001b[39mtext\u001b[39;00m \u001b[39mimport\u001b[39;00m CountVectorizer\n\u001b[0;32m      3\u001b[0m \u001b[39mfrom\u001b[39;00m \u001b[39msklearn\u001b[39;00m\u001b[39m.\u001b[39;00m\u001b[39mlinear_model\u001b[39;00m \u001b[39mimport\u001b[39;00m LogisticRegression\n\u001b[0;32m      5\u001b[0m \u001b[39m# Create the CountVectorizer object\u001b[39;00m\n",
      "\u001b[1;31mModuleNotFoundError\u001b[0m: No module named 'sklearn'"
     ]
    }
   ],
   "source": [
    "import re\n",
    "from sklearn.feature_extraction.text import CountVectorizer\n",
    "from sklearn.linear_model import LogisticRegression\n",
    "\n",
    "# Create the CountVectorizer object\n",
    "cv = CountVectorizer()\n",
    "\n",
    "# Define the reviews as a list of strings\n",
    "reviews = [\n",
    "    input(\"Enter your first review: \"),\n",
    "    input(\"Enter your second review: \")\n",
    "]\n",
    "\n",
    "# Fit and transform the reviews using CountVectorizer\n",
    "X = cv.fit_transform(reviews).toarray()\n",
    "\n",
    "# Define the labels for the reviews (positive or negative)\n",
    "y = ['positive', 'negative']  # Replace with your actual labels\n",
    "\n",
    "# Create the classifier and train it\n",
    "clf = LogisticRegression()\n",
    "clf.fit(X, y)\n",
    "\n",
    "# Transform the new reviews using CountVectorizer\n",
    "new_reviews = [\n",
    "    input(\"Enter a new review: \"),\n",
    "    input(\"Enter another new review: \")\n",
    "]\n",
    "new_X = cv.transform(new_reviews).toarray()\n",
    "\n",
    "# Predict the sentiment of the new reviews\n",
    "predictions = clf.predict(new_X)\n",
    "print(predictions)\n"
   ]
  }
 ],
 "metadata": {
  "kernelspec": {
   "display_name": "base",
   "language": "python",
   "name": "python3"
  },
  "language_info": {
   "codemirror_mode": {
    "name": "ipython",
    "version": 3
   },
   "file_extension": ".py",
   "mimetype": "text/x-python",
   "name": "python",
   "nbconvert_exporter": "python",
   "pygments_lexer": "ipython3",
   "version": "3.9.13"
  },
  "orig_nbformat": 4
 },
 "nbformat": 4,
 "nbformat_minor": 2
}
